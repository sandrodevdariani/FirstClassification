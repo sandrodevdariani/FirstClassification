{
  "nbformat": 4,
  "nbformat_minor": 0,
  "metadata": {
    "colab": {
      "provenance": [],
      "authorship_tag": "ABX9TyO0mFRgUP0bpxgyNwAV3yBm"
    },
    "kernelspec": {
      "name": "python3",
      "display_name": "Python 3"
    },
    "language_info": {
      "name": "python"
    }
  },
  "cells": [
    {
      "cell_type": "code",
      "execution_count": null,
      "metadata": {
        "id": "VVJGJAd-7jrd"
      },
      "outputs": [],
      "source": [
        "import tensorflow as tf\n",
        "import os\n"
      ]
    },
    {
      "cell_type": "code",
      "source": [
        "import cv2\n",
        "import imghdr"
      ],
      "metadata": {
        "id": "nAeVDS-o8zE5"
      },
      "execution_count": null,
      "outputs": []
    },
    {
      "cell_type": "code",
      "source": [
        "os.listdir(data_dir)"
      ],
      "metadata": {
        "colab": {
          "base_uri": "https://localhost:8080/"
        },
        "id": "uLrbIjIrCGLW",
        "outputId": "a7868750-9fba-4c8d-9360-a0f11f526f94"
      },
      "execution_count": null,
      "outputs": [
        {
          "output_type": "execute_result",
          "data": {
            "text/plain": [
              "['sad', 'happy']"
            ]
          },
          "metadata": {},
          "execution_count": 20
        }
      ]
    },
    {
      "cell_type": "code",
      "source": [
        "import os\n",
        "\n",
        "data_dir = \"/content/data\"\n",
        "checkpoint_dir = os.path.join(data_dir, \".ipynb_checkpoints\")\n",
        "\n",
        "os.rmdir(checkpoint_dir)"
      ],
      "metadata": {
        "id": "5DhdszIOB6wO"
      },
      "execution_count": null,
      "outputs": []
    },
    {
      "cell_type": "code",
      "source": [
        "data_dir = 'data'\n",
        "image_exts = ['jpeg', 'jpg', 'bmp', 'png']"
      ],
      "metadata": {
        "id": "HtPh0ITO_QVM"
      },
      "execution_count": null,
      "outputs": []
    },
    {
      "cell_type": "code",
      "source": [
        "import os\n",
        "#make that for happy folder also\n",
        "data_dir = \"/content/data/sad\"\n",
        "for filename in os.listdir(data_dir):\n",
        "    if \"vector\" in filename:\n",
        "        file_path = os.path.join(data_dir, filename)\n",
        "        os.remove(file_path)\n"
      ],
      "metadata": {
        "id": "ljKT_ryxCukZ"
      },
      "execution_count": null,
      "outputs": []
    },
    {
      "cell_type": "code",
      "source": [
        "import os\n",
        "#make that for happy folder also\n",
        "data_dir = \"/content/data/sad\"\n",
        "threshold_size = 9 * 1024 # 9KB in bytes\n",
        "\n",
        "for filename in os.listdir(data_dir):\n",
        "    file_path = os.path.join(data_dir, filename)\n",
        "    if os.path.isfile(file_path) and os.path.getsize(file_path) < threshold_size:\n",
        "        os.remove(file_path)\n"
      ],
      "metadata": {
        "id": "Sa7qt2nvDjgS"
      },
      "execution_count": null,
      "outputs": []
    },
    {
      "cell_type": "code",
      "source": [
        "for image_class in os.listdir(data_dir):\n",
        "    image_class_path = os.path.join(data_dir, image_class)\n",
        "    if os.path.isdir(image_class_path):\n",
        "        for image in os.listdir(image_class_path):\n",
        "            image_path = os.path.join(image_class_path, image)\n",
        "       \n",
        "            try: \n",
        "                img = cv2.imread(image_path)\n",
        "                tip = imghdr.what(image_path)\n",
        "                if tip not in image_exts: \n",
        "                    print('Image not in ext list {}'.format(image_path))\n",
        "                    os.remove(image_path)\n",
        "            except Exception as e: \n",
        "                print('Issue with image {}'.format(image_path))\n",
        "                #os.remove(image_path)    \n"
      ],
      "metadata": {
        "id": "LnVP3smqIhts"
      },
      "execution_count": null,
      "outputs": []
    }
  ]
}